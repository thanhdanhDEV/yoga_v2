{
 "cells": [
  {
   "cell_type": "code",
   "execution_count": 1,
   "metadata": {},
   "outputs": [],
   "source": [
    "import pandas as pd \n",
    "import numpy as np\n",
    "import matplotlib.pyplot as plt\n",
    "import os\n",
    "import math"
   ]
  },
  {
   "attachments": {},
   "cell_type": "markdown",
   "metadata": {},
   "source": [
    "# Landmarks to 3D_distances.csv"
   ]
  },
  {
   "cell_type": "code",
   "execution_count": 2,
   "metadata": {},
   "outputs": [],
   "source": [
    "\"\"\"\n",
    "    Landmarks from Data Demo\n",
    "\n",
    "path_distances = 'Landmarks/3d_distances_demo.csv'\n",
    "path_landmarks= 'Landmarks/landmarks_demo.csv'\n",
    "path_labels= 'Landmarks/labels_demo.csv'\n",
    "\"\"\"\n",
    "\n",
    "\"\"\"\n",
    "    Landmarks from Data Real\n",
    "\n",
    "path_distances = 'Landmarks/3d_distances_real.csv'\n",
    "path_landmarks= 'Landmarks/landmarks_real.csv'\n",
    "path_labels= 'Landmarks/labels_real.csv'\n",
    "\"\"\"\n",
    "\n",
    "path_landmarks= 'Landmarks/landmarks_real.csv'\n",
    "path_labels= 'Landmarks/labels_real.csv'\n",
    "\n",
    "\n",
    "# df_distances = pd.read_csv(path_distances)\n",
    "df_landmarks = pd.read_csv(path_landmarks)\n",
    "df_labels = pd.read_csv(path_labels)\n"
   ]
  },
  {
   "cell_type": "code",
   "execution_count": 3,
   "metadata": {},
   "outputs": [
    {
     "name": "stdout",
     "output_type": "stream",
     "text": [
      "<class 'pandas.core.frame.DataFrame'>\n",
      "RangeIndex: 552 entries, 0 to 551\n",
      "Data columns (total 1 columns):\n",
      " #   Column  Non-Null Count  Dtype \n",
      "---  ------  --------------  ----- \n",
      " 0   pose    552 non-null    object\n",
      "dtypes: object(1)\n",
      "memory usage: 4.4+ KB\n"
     ]
    }
   ],
   "source": [
    "# df_distances.info()\n",
    "df_labels.info()"
   ]
  },
  {
   "cell_type": "code",
   "execution_count": 4,
   "metadata": {},
   "outputs": [],
   "source": [
    "import numpy as np\n",
    "\n",
    "def cal_distances(point_1, point_2):\n",
    "    # [x1_coords, y1_coords, z1_coords] = [ -5.889507, -57.63752, -45.01975]\n",
    "    # [x2_coords, y2_coords, z2_coords] = [ -4.656085, -62.832863, -44.571823]\n",
    "    p1 = np.array([point_1[0], point_1[1], point_1[2]])\n",
    "    p2 = np.array([point_2[0], point_2[1], point_2[2]])\n",
    "\n",
    "    squared_dist = np.sum((p1-p2)**2, axis=0)\n",
    "    dist = np.sqrt(squared_dist)\n",
    "    return dist"
   ]
  },
  {
   "cell_type": "code",
   "execution_count": 5,
   "metadata": {},
   "outputs": [],
   "source": [
    "### get list of columns : df_distances\n",
    "\n",
    "def create_dist_Series(dist_between_string):\n",
    "    ### split string\n",
    "    index = dist_between_string.find(\"_\", int(len(dist_between_string)/2 - 2), -1) ### find underscore in mid string\n",
    "    A_point = dist_between_string[:index]\n",
    "    B_point = dist_between_string[index+1:]\n",
    "\n",
    "    # Define the function\n",
    "    def norm_2(point_1, point_2):\n",
    "        A = [point_1[0], point_1[1], point_1[2]]\n",
    "        B = [point_2[0], point_2[1], point_2[2]]\n",
    "        dist = cal_distances(point_1= A, point_2= B)\n",
    "        return dist\n",
    "\n",
    "    # Apply the function to the DataFrame\n",
    "    out_distances = df_landmarks.apply(lambda row: norm_2(row[['x_'+A_point, 'y_'+A_point, 'z_'+A_point]], row[['x_'+B_point, 'y_'+B_point, 'z_'+B_point]]), axis=1)\n",
    "    return out_distances\n",
    "\n",
    "def create_avg_dist(avg_between_string):\n",
    "    index = avg_between_string.find(\"avg_\") ### find avg_ in mid string\n",
    "    A_point = avg_between_string[:index-1]\n",
    "    other = avg_between_string[index+4:]\n",
    "\n",
    "    sub_str = other\n",
    "    index = sub_str.find(\"_\", int(len(sub_str)/2 - 2), -1) ### find underscore in mid string\n",
    "    B_point = sub_str[:index]\n",
    "    C_point = sub_str[index+1:]\n",
    "    def avg_(row):\n",
    "        return (row[A_point+ '_' + B_point] + row[A_point+ '_' + C_point]) /2\n",
    "\n",
    "    # Apply the function to the DataFrame\n",
    "    out_distances = df_out_distances.apply(lambda row: avg_(row), axis= 1)\n",
    "    return out_distances\n",
    "\n",
    "# Importing Pandas to create DataFrame\n",
    "import pandas as pd\n",
    "  \n",
    "# Creating Empty DataFrame and Storing it in variable df\n",
    "df_out_distances = pd.DataFrame()\n",
    "\n",
    "# name_distances = list(df_distances.columns)\n",
    "\n",
    "name_distances = ['left_shoulder_left_wrist',\n",
    "                'right_shoulder_right_wrist',\n",
    "                'left_hip_left_ankle',\n",
    "                'right_hip_right_ankle',\n",
    "                'left_hip_left_wrist',\n",
    "                'right_hip_right_wrist',\n",
    "                'left_shoulder_left_ankle',\n",
    "                'right_shoulder_right_ankle',\n",
    "                'left_hip_right_wrist',\n",
    "                'right_hip_left_wrist',\n",
    "                'left_elbow_right_elbow',\n",
    "                'left_knee_right_knee',\n",
    "                'left_wrist_right_wrist',\n",
    "                'left_ankle_right_ankle',\n",
    "                'left_hip_avg_left_wrist_left_ankle',\n",
    "                'right_hip_avg_right_wrist_right_ankle']\n",
    "\n",
    "for i in  range(len(name_distances)):\n",
    "    index = name_distances[i].find(\"avg_\")\n",
    "    if index == -1:\n",
    "        df_out_distances[name_distances[i]] = create_dist_Series(name_distances[i])\n",
    "    else:\n",
    "        df_out_distances[name_distances[i]] = create_avg_dist(name_distances[i])\n",
    "\n",
    "# df_out_distances.info()"
   ]
  },
  {
   "cell_type": "code",
   "execution_count": 6,
   "metadata": {},
   "outputs": [],
   "source": [
    "df_out = df_out_distances.astype(np.float32)\n",
    "# df_out.info()"
   ]
  },
  {
   "cell_type": "code",
   "execution_count": 7,
   "metadata": {},
   "outputs": [],
   "source": [
    "### Save to csv\n",
    "import os  \n",
    "# os.makedirs('Data_CSV', exist_ok=True)  \n",
    "df_out.to_csv('Features_All/3d_distances_All.csv', index=False)\n",
    "df_labels.to_csv('Features_All/labels_All.csv', index=False)"
   ]
  },
  {
   "attachments": {},
   "cell_type": "markdown",
   "metadata": {},
   "source": [
    "# Landmarks to angles.csv"
   ]
  },
  {
   "cell_type": "code",
   "execution_count": 8,
   "metadata": {},
   "outputs": [],
   "source": [
    "\"\"\"\n",
    "    Landmarks from Data Demo\n",
    "\n",
    "path_angles = 'Landmarks/angles_demo.csv'\n",
    "path_landmarks= 'Landmarks/landmarks_demo.csv'\n",
    "path_labels= 'Landmarks/labels_demo.csv'\n",
    "\"\"\"\n",
    "\n",
    "\"\"\"\n",
    "    Landmarks from Data Real\n",
    "\n",
    "path_angles = 'Landmarks/angles_real.csv'\n",
    "path_landmarks= 'Landmarks/landmarks_real.csv'\n",
    "path_labels= 'Landmarks/labels_real.csv'\n",
    "\"\"\"\n",
    "\n",
    "\n",
    "# path_angles = 'Landmarks/angles_demo.csv'\n",
    "path_landmarks= 'Landmarks/landmarks_real.csv'\n",
    "path_labels= 'Landmarks/labels_real.csv'\n",
    "\n",
    "\n",
    "# df_distances = pd.read_csv(path_distances)\n",
    "df_landmarks = pd.read_csv(path_landmarks)\n",
    "df_labels = pd.read_csv(path_labels)\n"
   ]
  },
  {
   "cell_type": "code",
   "execution_count": 9,
   "metadata": {},
   "outputs": [],
   "source": [
    "# Create mid hip - cordination\n",
    "\n",
    "df_landmarks.head(1)\n",
    "\n",
    "df_landmarks[\"x_mid_hip\"] = (df_landmarks.x_right_hip + df_landmarks.x_left_hip) / 2\n",
    "df_landmarks[\"y_mid_hip\"] = (df_landmarks.y_right_hip + df_landmarks.y_left_hip) / 2\n",
    "df_landmarks[\"z_mid_hip\"] = (df_landmarks.z_right_hip + df_landmarks.z_left_hip) / 2"
   ]
  },
  {
   "cell_type": "code",
   "execution_count": 10,
   "metadata": {},
   "outputs": [
    {
     "name": "stdout",
     "output_type": "stream",
     "text": [
      "<class 'pandas.core.frame.DataFrame'>\n",
      "RangeIndex: 552 entries, 0 to 551\n",
      "Data columns (total 1 columns):\n",
      " #   Column  Non-Null Count  Dtype \n",
      "---  ------  --------------  ----- \n",
      " 0   pose    552 non-null    object\n",
      "dtypes: object(1)\n",
      "memory usage: 4.4+ KB\n"
     ]
    }
   ],
   "source": [
    "# df_distances.info()\n",
    "df_labels.info()"
   ]
  },
  {
   "cell_type": "code",
   "execution_count": 11,
   "metadata": {},
   "outputs": [],
   "source": [
    "import numpy as np\n",
    "\n",
    "def cal_angle(point_1, point_2,  point_3):\n",
    "    # [x1_coords, y1_coords, z1_coords] = [ -5.889507, -57.63752, -45.01975]\n",
    "    # [x2_coords, y2_coords, z2_coords] = [ -4.656085, -62.832863, -44.571823]\n",
    "    p1 = np.array([point_1[0], point_1[1], point_1[2]])\n",
    "    p2 = np.array([point_2[0], point_2[1], point_2[2]])\n",
    "    p3 = np.array([point_3[0], point_3[1], point_3[2]])\n",
    "\n",
    "    v1 = p1 - p2\n",
    "    v2 = p3 - p2\n",
    "\n",
    "    def norm_2(vector):\n",
    "        v_norm2 = np.sum((vector)**2, axis=0)\n",
    "        v_norm2 = np.sqrt(v_norm2)\n",
    "        return v_norm2\n",
    "    \n",
    "    v1_norm = norm_2(v1)\n",
    "    v2_norm = norm_2(v2)\n",
    "\n",
    "    angle = math.acos((np.sum(v1*v2))/(v1_norm*v2_norm))\n",
    "    angle = angle * 180 / math.pi\n",
    "    return angle"
   ]
  },
  {
   "cell_type": "code",
   "execution_count": 12,
   "metadata": {},
   "outputs": [
    {
     "name": "stdout",
     "output_type": "stream",
     "text": [
      "<class 'pandas.core.frame.DataFrame'>\n",
      "RangeIndex: 552 entries, 0 to 551\n",
      "Data columns (total 7 columns):\n",
      " #   Column                                  Non-Null Count  Dtype  \n",
      "---  ------                                  --------------  -----  \n",
      " 0   right_elbow_right_shoulder_right_hip    552 non-null    float64\n",
      " 1   left_elbow_left_shoulder_left_hip       552 non-null    float64\n",
      " 2   right_knee_mid_hip_left_knee            552 non-null    float64\n",
      " 3   right_hip_right_knee_right_ankle        552 non-null    float64\n",
      " 4   left_hip_left_knee_left_ankle           552 non-null    float64\n",
      " 5   right_wrist_right_elbow_right_shoulder  552 non-null    float64\n",
      " 6   left_wrist_left_elbow_left_shoulder     552 non-null    float64\n",
      "dtypes: float64(7)\n",
      "memory usage: 30.3 KB\n"
     ]
    }
   ],
   "source": [
    "### get list of columns : df_distances\n",
    "\n",
    "def create_dist_Series_angle(three_points_string):\n",
    "    ### split string\n",
    "    three_points_string = three_points_string.split(\"_\")\n",
    "\n",
    "    list_index = []\n",
    "    for i, item in enumerate(three_points_string):\n",
    "        if item in [\"right\", \"left\", \"mid\"]:\n",
    "            list_index.append(i)\n",
    "\n",
    "    A_point = \"_\".join(three_points_string[list_index[0]:list_index[1]])\n",
    "    B_point = \"_\".join(three_points_string[list_index[1]:list_index[2]])\n",
    "    C_point = \"_\".join(three_points_string[list_index[2]:])\n",
    "\n",
    "    # Define the function\n",
    "    def multiply(point_1, point_2, point_3):\n",
    "        A = [point_1[0], point_1[1], point_1[2]]\n",
    "        B = [point_2[0], point_2[1], point_2[2]]\n",
    "        C = [point_3[0], point_3[1], point_3[2]]\n",
    "        dist = cal_angle(point_1= A, point_2= B, point_3= C)\n",
    "        return dist\n",
    "\n",
    "    # Apply the function to the DataFrame\n",
    "    out_angle = df_landmarks.apply(lambda row: multiply(row[['x_'+A_point, 'y_'+A_point, 'z_'+A_point]], row[['x_'+B_point, 'y_'+B_point, 'z_'+B_point]], row[['x_'+C_point, 'y_'+C_point, 'z_'+C_point]]), axis=1)\n",
    "    return out_angle\n",
    "\n",
    "# Importing Pandas to create DataFrame\n",
    "import pandas as pd\n",
    "  \n",
    "# Creating Empty DataFrame and Storing it in variable df\n",
    "df_out_angles = pd.DataFrame()\n",
    "\n",
    "# name_angles = list(df_angles.columns)\n",
    "\n",
    "name_angles = ['right_elbow_right_shoulder_right_hip',\n",
    "            'left_elbow_left_shoulder_left_hip',\n",
    "            'right_knee_mid_hip_left_knee',\n",
    "            'right_hip_right_knee_right_ankle',\n",
    "            'left_hip_left_knee_left_ankle',\n",
    "            'right_wrist_right_elbow_right_shoulder',\n",
    "            'left_wrist_left_elbow_left_shoulder']\n",
    "\n",
    "for i in range(len(name_angles)):\n",
    "    df_out_angles[name_angles[i]] = create_dist_Series_angle(name_angles[i])\n",
    "\n",
    "df_out_angles.info()"
   ]
  },
  {
   "cell_type": "code",
   "execution_count": 13,
   "metadata": {},
   "outputs": [],
   "source": [
    "df_out = df_out_angles.astype(np.float16)\n",
    "# df_out.info()"
   ]
  },
  {
   "cell_type": "code",
   "execution_count": 14,
   "metadata": {},
   "outputs": [],
   "source": [
    "### Save to csv\n",
    "import os  \n",
    "# os.makedirs('Data_CSV', exist_ok=True)  \n",
    "df_out.to_csv('Features_All/angles_All.csv', index=False)\n",
    "df_labels.to_csv('Features_All/labels_All.csv', index=False)"
   ]
  }
 ],
 "metadata": {
  "kernelspec": {
   "display_name": "Python 3",
   "language": "python",
   "name": "python3"
  },
  "language_info": {
   "codemirror_mode": {
    "name": "ipython",
    "version": 3
   },
   "file_extension": ".py",
   "mimetype": "text/x-python",
   "name": "python",
   "nbconvert_exporter": "python",
   "pygments_lexer": "ipython3",
   "version": "3.10.7"
  },
  "orig_nbformat": 4
 },
 "nbformat": 4,
 "nbformat_minor": 2
}
