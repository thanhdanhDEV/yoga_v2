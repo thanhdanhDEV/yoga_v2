{
 "cells": [
  {
   "cell_type": "code",
   "execution_count": 1,
   "metadata": {},
   "outputs": [],
   "source": [
    "import pandas as pd \n",
    "import numpy as np\n",
    "import matplotlib.pyplot as plt\n",
    "import os\n",
    "import math"
   ]
  },
  {
   "attachments": {},
   "cell_type": "markdown",
   "metadata": {},
   "source": [
    "# 1. Chose 2 classes"
   ]
  },
  {
   "cell_type": "code",
   "execution_count": 2,
   "metadata": {},
   "outputs": [],
   "source": [
    "path_distances = 'Features_All/3d_distances_All.csv'\n",
    "path_angles= 'Features_All/angles_All.csv'\n",
    "path_labels= 'Features_All/labels_All.csv'\n",
    "\n",
    "\n",
    "df_distances = pd.read_csv(path_distances)\n",
    "df_angles = pd.read_csv(path_angles)\n",
    "df_labels = pd.read_csv(path_labels)"
   ]
  },
  {
   "cell_type": "code",
   "execution_count": 3,
   "metadata": {},
   "outputs": [
    {
     "name": "stdout",
     "output_type": "stream",
     "text": [
      "<class 'pandas.core.frame.DataFrame'>\n",
      "RangeIndex: 552 entries, 0 to 551\n",
      "Data columns (total 1 columns):\n",
      " #   Column  Non-Null Count  Dtype \n",
      "---  ------  --------------  ----- \n",
      " 0   pose    552 non-null    object\n",
      "dtypes: object(1)\n",
      "memory usage: 4.4+ KB\n"
     ]
    }
   ],
   "source": [
    "# df_distances.info()\n",
    "# df_angles.info()\n",
    "df_labels.info()"
   ]
  },
  {
   "attachments": {},
   "cell_type": "markdown",
   "metadata": {},
   "source": [
    "## Show All classes"
   ]
  },
  {
   "cell_type": "code",
   "execution_count": 4,
   "metadata": {},
   "outputs": [
    {
     "data": {
      "text/plain": [
       "['lotus_pose', 'non_lotus_pose']"
      ]
     },
     "execution_count": 4,
     "metadata": {},
     "output_type": "execute_result"
    }
   ],
   "source": [
    "list(df_labels[\"pose\"].unique())"
   ]
  },
  {
   "attachments": {},
   "cell_type": "markdown",
   "metadata": {},
   "source": [
    "## Chose"
   ]
  },
  {
   "cell_type": "code",
   "execution_count": 5,
   "metadata": {},
   "outputs": [],
   "source": [
    "### Chose 2 poses\n",
    "# poses_list = ['pullups_down', 'pullups_up']\n",
    "# poses_list = ['warrior_i', 'warrior_ii']\n",
    "# poses_list = ['push_up', 'push_down']\n",
    "# poses_list = ['squat_up', 'squat_down']\n",
    "poses_list = ['lotus_pose', 'non_lotus_pose']"
   ]
  },
  {
   "attachments": {},
   "cell_type": "markdown",
   "metadata": {},
   "source": [
    "# 2. Create Data"
   ]
  },
  {
   "cell_type": "code",
   "execution_count": 6,
   "metadata": {},
   "outputs": [],
   "source": [
    "from util import *\n",
    "# poses_list = ['pushups_up', 'pushups_down']\n",
    "path_distances = 'Features_All/3d_distances_All.csv'\n",
    "path_angles= 'Features_All/angles_All.csv'\n",
    "path_labels= 'Features_All/labels_All.csv'\n",
    "\n",
    "out_path_distances = 'Features_2_classes/3d_distances'\n",
    "out_path_angles= 'Features_2_classes/angles'\n",
    "\n",
    "for j in range(len(poses_list)):\n",
    "    out_path_angles = out_path_angles + \"_\" + poses_list[j]\n",
    "    out_path_distances = out_path_distances + \"_\" + poses_list[j]\n",
    "\n",
    "out_path_distances = out_path_distances + \".csv\"\n",
    "out_path_angles = out_path_angles + \".csv\"\n",
    "\n",
    "input_path = [path_distances, path_angles]\n",
    "output_path = [out_path_distances, out_path_angles]\n",
    "for i in range(2):\n",
    "    create_datasets(poses_list= poses_list, features_path= input_path[i], label_path= path_labels, outcome_path= output_path[i])"
   ]
  }
 ],
 "metadata": {
  "kernelspec": {
   "display_name": "Python 3",
   "language": "python",
   "name": "python3"
  },
  "language_info": {
   "codemirror_mode": {
    "name": "ipython",
    "version": 3
   },
   "file_extension": ".py",
   "mimetype": "text/x-python",
   "name": "python",
   "nbconvert_exporter": "python",
   "pygments_lexer": "ipython3",
   "version": "3.10.7"
  },
  "orig_nbformat": 4
 },
 "nbformat": 4,
 "nbformat_minor": 2
}
