{
 "cells": [
  {
   "cell_type": "code",
   "execution_count": 9,
   "metadata": {},
   "outputs": [],
   "source": [
    "import pandas as pd \n",
    "import numpy as np\n",
    "import matplotlib.pyplot as plt\n",
    "import os\n",
    "import math"
   ]
  },
  {
   "attachments": {},
   "cell_type": "markdown",
   "metadata": {},
   "source": [
    "# Convert Demo to Landmarks"
   ]
  },
  {
   "cell_type": "code",
   "execution_count": 5,
   "metadata": {},
   "outputs": [],
   "source": [
    "path_x = 'Data_Demo\\landmarks.csv'\n",
    "path_y = 'Data_Demo\\labels.csv'\n",
    "path_distances = 'Data_Demo/3d_distances.csv'\n",
    "path_angles = 'Data_Demo/angles.csv'\n",
    "\n",
    "df_x = pd.read_csv(path_x)\n",
    "df_y = pd.read_csv(path_y)\n",
    "df_distances = pd.read_csv(path_distances)\n",
    "df_angles = pd.read_csv(path_angles)\n",
    "\n",
    "df_x.drop(columns=[\"pose_id\"], inplace=True) \n",
    "df_y.drop(columns=[\"pose_id\"], inplace=True)\n",
    "df_distances.drop(columns=[\"pose_id\"], inplace=True) \n",
    "df_angles.drop(columns=[\"pose_id\"], inplace=True) "
   ]
  },
  {
   "cell_type": "code",
   "execution_count": 15,
   "metadata": {},
   "outputs": [],
   "source": [
    "### Save to csv\n",
    "import os  \n",
    "os.makedirs('Landmarks', exist_ok=True)  \n",
    "df_x.to_csv('Landmarks/landmarks_demo.csv', index=False)  \n",
    "df_y.to_csv('Landmarks/labels_demo.csv', index=False)  \n",
    "df_distances.to_csv('Landmarks/3d_distances_demo.csv', index=False)  \n",
    "df_angles.to_csv('Landmarks/angles_demo.csv', index=False)  "
   ]
  },
  {
   "attachments": {},
   "cell_type": "markdown",
   "metadata": {},
   "source": [
    "# Convert Real to Landmarks"
   ]
  },
  {
   "cell_type": "code",
   "execution_count": 10,
   "metadata": {},
   "outputs": [],
   "source": [
    "path_x = 'Data_Real\\landmarks.csv'\n",
    "path_y = 'Data_Real\\labels.csv'\n",
    "df_x = pd.read_csv(path_x)\n",
    "df_y = pd.read_csv(path_y)\n"
   ]
  },
  {
   "cell_type": "code",
   "execution_count": 11,
   "metadata": {},
   "outputs": [],
   "source": [
    "### Save to csv\n",
    "import os  \n",
    "os.makedirs('Landmarks', exist_ok=True)  \n",
    "df_x.to_csv('Landmarks/landmarks_real.csv', index=False)  \n",
    "df_y.to_csv('Landmarks/labels_real.csv', index=False)  "
   ]
  },
  {
   "cell_type": "code",
   "execution_count": 12,
   "metadata": {},
   "outputs": [
    {
     "name": "stdout",
     "output_type": "stream",
     "text": [
      "<class 'pandas.core.frame.DataFrame'>\n",
      "RangeIndex: 375 entries, 0 to 374\n",
      "Data columns (total 99 columns):\n",
      " #   Column              Non-Null Count  Dtype  \n",
      "---  ------              --------------  -----  \n",
      " 0   x_nose              375 non-null    float64\n",
      " 1   y_nose              375 non-null    float64\n",
      " 2   z_nose              375 non-null    float64\n",
      " 3   x_left_eye_inner    375 non-null    float64\n",
      " 4   y_left_eye_inner    375 non-null    float64\n",
      " 5   z_left_eye_inner    375 non-null    float64\n",
      " 6   x_left_eye          375 non-null    float64\n",
      " 7   y_left_eye          375 non-null    float64\n",
      " 8   z_left_eye          375 non-null    float64\n",
      " 9   x_left_eye_outer    375 non-null    float64\n",
      " 10  y_left_eye_outer    375 non-null    float64\n",
      " 11  z_left_eye_outer    375 non-null    float64\n",
      " 12  x_right_eye_inner   375 non-null    float64\n",
      " 13  y_right_eye_inner   375 non-null    float64\n",
      " 14  z_right_eye_inner   375 non-null    float64\n",
      " 15  x_right_eye         375 non-null    float64\n",
      " 16  y_right_eye         375 non-null    float64\n",
      " 17  z_right_eye         375 non-null    float64\n",
      " 18  x_right_eye_outer   375 non-null    float64\n",
      " 19  y_right_eye_outer   375 non-null    float64\n",
      " 20  z_right_eye_outer   375 non-null    float64\n",
      " 21  x_left_ear          375 non-null    float64\n",
      " 22  y_left_ear          375 non-null    float64\n",
      " 23  z_left_ear          375 non-null    float64\n",
      " 24  x_right_ear         375 non-null    float64\n",
      " 25  y_right_ear         375 non-null    float64\n",
      " 26  z_right_ear         375 non-null    float64\n",
      " 27  x_mouth_left        375 non-null    float64\n",
      " 28  y_mouth_left        375 non-null    float64\n",
      " 29  z_mouth_left        375 non-null    float64\n",
      " 30  x_mouth_right       375 non-null    float64\n",
      " 31  y_mouth_right       375 non-null    float64\n",
      " 32  z_mouth_right       375 non-null    float64\n",
      " 33  x_left_shoulder     375 non-null    float64\n",
      " 34  y_left_shoulder     375 non-null    float64\n",
      " 35  z_left_shoulder     375 non-null    float64\n",
      " 36  x_right_shoulder    375 non-null    float64\n",
      " 37  y_right_shoulder    375 non-null    float64\n",
      " 38  z_right_shoulder    375 non-null    float64\n",
      " 39  x_left_elbow        375 non-null    float64\n",
      " 40  y_left_elbow        375 non-null    float64\n",
      " 41  z_left_elbow        375 non-null    float64\n",
      " 42  x_right_elbow       375 non-null    float64\n",
      " 43  y_right_elbow       375 non-null    float64\n",
      " 44  z_right_elbow       375 non-null    float64\n",
      " 45  x_left_wrist        375 non-null    float64\n",
      " 46  y_left_wrist        375 non-null    float64\n",
      " 47  z_left_wrist        375 non-null    float64\n",
      " 48  x_right_wrist       375 non-null    float64\n",
      " 49  y_right_wrist       375 non-null    float64\n",
      " 50  z_right_wrist       375 non-null    float64\n",
      " 51  x_left_pinky_1      375 non-null    float64\n",
      " 52  y_left_pinky_1      375 non-null    float64\n",
      " 53  z_left_pinky_1      375 non-null    float64\n",
      " 54  x_right_pinky_1     375 non-null    float64\n",
      " 55  y_right_pinky_1     375 non-null    float64\n",
      " 56  z_right_pinky_1     375 non-null    float64\n",
      " 57  x_left_index_1      375 non-null    float64\n",
      " 58  y_left_index_1      375 non-null    float64\n",
      " 59  z_left_index_1      375 non-null    float64\n",
      " 60  x_right_index_1     375 non-null    float64\n",
      " 61  y_right_index_1     375 non-null    float64\n",
      " 62  z_right_index_1     375 non-null    float64\n",
      " 63  x_left_thumb_2      375 non-null    float64\n",
      " 64  y_left_thumb_2      375 non-null    float64\n",
      " 65  z_left_thumb_2      375 non-null    float64\n",
      " 66  x_right_thumb_2     375 non-null    float64\n",
      " 67  y_right_thumb_2     375 non-null    float64\n",
      " 68  z_right_thumb_2     375 non-null    float64\n",
      " 69  x_left_hip          375 non-null    float64\n",
      " 70  y_left_hip          375 non-null    float64\n",
      " 71  z_left_hip          375 non-null    float64\n",
      " 72  x_right_hip         375 non-null    float64\n",
      " 73  y_right_hip         375 non-null    float64\n",
      " 74  z_right_hip         375 non-null    float64\n",
      " 75  x_left_knee         375 non-null    float64\n",
      " 76  y_left_knee         375 non-null    float64\n",
      " 77  z_left_knee         375 non-null    float64\n",
      " 78  x_right_knee        375 non-null    float64\n",
      " 79  y_right_knee        375 non-null    float64\n",
      " 80  z_right_knee        375 non-null    float64\n",
      " 81  x_left_ankle        375 non-null    float64\n",
      " 82  y_left_ankle        375 non-null    float64\n",
      " 83  z_left_ankle        375 non-null    float64\n",
      " 84  x_right_ankle       375 non-null    float64\n",
      " 85  y_right_ankle       375 non-null    float64\n",
      " 86  z_right_ankle       375 non-null    float64\n",
      " 87  x_left_heel         375 non-null    float64\n",
      " 88  y_left_heel         375 non-null    float64\n",
      " 89  z_left_heel         375 non-null    float64\n",
      " 90  x_right_heel        375 non-null    float64\n",
      " 91  y_right_heel        375 non-null    float64\n",
      " 92  z_right_heel        375 non-null    float64\n",
      " 93  x_left_foot_index   375 non-null    float64\n",
      " 94  y_left_foot_index   375 non-null    float64\n",
      " 95  z_left_foot_index   375 non-null    float64\n",
      " 96  x_right_foot_index  375 non-null    float64\n",
      " 97  y_right_foot_index  375 non-null    float64\n",
      " 98  z_right_foot_index  375 non-null    float64\n",
      "dtypes: float64(99)\n",
      "memory usage: 290.2 KB\n"
     ]
    }
   ],
   "source": [
    "df_x.info()"
   ]
  }
 ],
 "metadata": {
  "kernelspec": {
   "display_name": "Python 3",
   "language": "python",
   "name": "python3"
  },
  "language_info": {
   "codemirror_mode": {
    "name": "ipython",
    "version": 3
   },
   "file_extension": ".py",
   "mimetype": "text/x-python",
   "name": "python",
   "nbconvert_exporter": "python",
   "pygments_lexer": "ipython3",
   "version": "3.10.7"
  },
  "orig_nbformat": 4
 },
 "nbformat": 4,
 "nbformat_minor": 2
}
