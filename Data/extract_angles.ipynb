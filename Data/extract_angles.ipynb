{
 "cells": [
  {
   "cell_type": "code",
   "execution_count": 3,
   "metadata": {},
   "outputs": [],
   "source": [
    "import pandas as pd \n",
    "import numpy as np\n",
    "import matplotlib.pyplot as plt\n",
    "import math\n",
    "import os"
   ]
  },
  {
   "cell_type": "code",
   "execution_count": 4,
   "metadata": {},
   "outputs": [],
   "source": [
    "path_angles = 'angles.csv'\n",
    "path_landmarks= 'landmarks.csv'\n",
    "df_angles = pd.read_csv(path_angles)\n",
    "df_landmarks = pd.read_csv(path_landmarks)\n",
    "\n",
    "\n",
    "df_angles.drop(columns=[\"pose_id\"], inplace=True) \n",
    "df_landmarks.drop(columns=[\"pose_id\"], inplace=True)"
   ]
  },
  {
   "cell_type": "code",
   "execution_count": 5,
   "metadata": {},
   "outputs": [
    {
     "data": {
      "text/html": [
       "<div>\n",
       "<style scoped>\n",
       "    .dataframe tbody tr th:only-of-type {\n",
       "        vertical-align: middle;\n",
       "    }\n",
       "\n",
       "    .dataframe tbody tr th {\n",
       "        vertical-align: top;\n",
       "    }\n",
       "\n",
       "    .dataframe thead th {\n",
       "        text-align: right;\n",
       "    }\n",
       "</style>\n",
       "<table border=\"1\" class=\"dataframe\">\n",
       "  <thead>\n",
       "    <tr style=\"text-align: right;\">\n",
       "      <th></th>\n",
       "      <th>right_elbow_right_shoulder_right_hip</th>\n",
       "      <th>left_elbow_left_shoulder_left_hip</th>\n",
       "      <th>right_knee_mid_hip_left_knee</th>\n",
       "      <th>right_hip_right_knee_right_ankle</th>\n",
       "      <th>left_hip_left_knee_left_ankle</th>\n",
       "      <th>right_wrist_right_elbow_right_shoulder</th>\n",
       "      <th>left_wrist_left_elbow_left_shoulder</th>\n",
       "    </tr>\n",
       "  </thead>\n",
       "  <tbody>\n",
       "    <tr>\n",
       "      <th>0</th>\n",
       "      <td>14.021934</td>\n",
       "      <td>8.209491</td>\n",
       "      <td>23.214672</td>\n",
       "      <td>129.22334</td>\n",
       "      <td>116.20365</td>\n",
       "      <td>138.05977</td>\n",
       "      <td>141.57338</td>\n",
       "    </tr>\n",
       "  </tbody>\n",
       "</table>\n",
       "</div>"
      ],
      "text/plain": [
       "   right_elbow_right_shoulder_right_hip  left_elbow_left_shoulder_left_hip  \\\n",
       "0                             14.021934                           8.209491   \n",
       "\n",
       "   right_knee_mid_hip_left_knee  right_hip_right_knee_right_ankle  \\\n",
       "0                     23.214672                         129.22334   \n",
       "\n",
       "   left_hip_left_knee_left_ankle  right_wrist_right_elbow_right_shoulder  \\\n",
       "0                      116.20365                               138.05977   \n",
       "\n",
       "   left_wrist_left_elbow_left_shoulder  \n",
       "0                            141.57338  "
      ]
     },
     "execution_count": 5,
     "metadata": {},
     "output_type": "execute_result"
    }
   ],
   "source": [
    "df_angles.head(1)"
   ]
  },
  {
   "cell_type": "code",
   "execution_count": 6,
   "metadata": {},
   "outputs": [
    {
     "name": "stdout",
     "output_type": "stream",
     "text": [
      "<class 'pandas.core.frame.DataFrame'>\n",
      "RangeIndex: 1372 entries, 0 to 1371\n",
      "Data columns (total 7 columns):\n",
      " #   Column                                  Non-Null Count  Dtype  \n",
      "---  ------                                  --------------  -----  \n",
      " 0   right_elbow_right_shoulder_right_hip    1372 non-null   float64\n",
      " 1   left_elbow_left_shoulder_left_hip       1372 non-null   float64\n",
      " 2   right_knee_mid_hip_left_knee            1372 non-null   float64\n",
      " 3   right_hip_right_knee_right_ankle        1372 non-null   float64\n",
      " 4   left_hip_left_knee_left_ankle           1372 non-null   float64\n",
      " 5   right_wrist_right_elbow_right_shoulder  1372 non-null   float64\n",
      " 6   left_wrist_left_elbow_left_shoulder     1372 non-null   float64\n",
      "dtypes: float64(7)\n",
      "memory usage: 75.2 KB\n"
     ]
    }
   ],
   "source": [
    "df_angles.info()"
   ]
  },
  {
   "cell_type": "code",
   "execution_count": 27,
   "metadata": {},
   "outputs": [
    {
     "data": {
      "text/plain": [
       "['right_elbow_right_shoulder_right_hip',\n",
       " 'left_elbow_left_shoulder_left_hip',\n",
       " 'right_knee_mid_hip_left_knee',\n",
       " 'right_hip_right_knee_right_ankle',\n",
       " 'left_hip_left_knee_left_ankle',\n",
       " 'right_wrist_right_elbow_right_shoulder',\n",
       " 'left_wrist_left_elbow_left_shoulder']"
      ]
     },
     "execution_count": 27,
     "metadata": {},
     "output_type": "execute_result"
    }
   ],
   "source": [
    "list(df_angles.columns)"
   ]
  },
  {
   "attachments": {},
   "cell_type": "markdown",
   "metadata": {},
   "source": [
    "# Create mid hip"
   ]
  },
  {
   "cell_type": "code",
   "execution_count": 13,
   "metadata": {},
   "outputs": [
    {
     "name": "stdout",
     "output_type": "stream",
     "text": [
      "0   -4.53068\n",
      "Name: x_right_hip, dtype: float64\n",
      "0    4.530677\n",
      "Name: x_left_hip, dtype: float64\n"
     ]
    }
   ],
   "source": [
    "df_landmarks.head(1)\n",
    "\n",
    "df_landmarks[\"x_mid_hip\"] = (df_landmarks.x_right_hip + df_landmarks.x_left_hip) / 2\n",
    "df_landmarks[\"y_mid_hip\"] = (df_landmarks.y_right_hip + df_landmarks.y_left_hip) / 2\n",
    "df_landmarks[\"z_mid_hip\"] = (df_landmarks.z_right_hip + df_landmarks.z_left_hip) / 2\n"
   ]
  },
  {
   "cell_type": "code",
   "execution_count": 16,
   "metadata": {},
   "outputs": [
    {
     "data": {
      "text/plain": [
       "Index(['x_mid_hip', 'y_mid_hip', 'z_mid_hip'], dtype='object')"
      ]
     },
     "execution_count": 16,
     "metadata": {},
     "output_type": "execute_result"
    }
   ],
   "source": [
    "df_landmarks.columns[-3:]"
   ]
  },
  {
   "attachments": {},
   "cell_type": "markdown",
   "metadata": {},
   "source": [
    "# Code calculate Angles"
   ]
  },
  {
   "cell_type": "code",
   "execution_count": 20,
   "metadata": {},
   "outputs": [
    {
     "name": "stdout",
     "output_type": "stream",
     "text": [
      "14.02193688385385\n"
     ]
    }
   ],
   "source": [
    "import numpy as np\n",
    "\n",
    "def cal_angle(point_1, point_2,  point_3):\n",
    "    # [x1_coords, y1_coords, z1_coords] = [ -5.889507, -57.63752, -45.01975]\n",
    "    # [x2_coords, y2_coords, z2_coords] = [ -4.656085, -62.832863, -44.571823]\n",
    "    p1 = np.array([point_1[0], point_1[1], point_1[2]])\n",
    "    p2 = np.array([point_2[0], point_2[1], point_2[2]])\n",
    "    p3 = np.array([point_3[0], point_3[1], point_3[2]])\n",
    "\n",
    "    v1 = p1 - p2\n",
    "    v2 = p3 - p2\n",
    "\n",
    "    def norm_2(vector):\n",
    "        v_norm2 = np.sum((vector)**2, axis=0)\n",
    "        v_norm2 = np.sqrt(v_norm2)\n",
    "        return v_norm2\n",
    "    \n",
    "    v1_norm = norm_2(v1)\n",
    "    v2_norm = norm_2(v2)\n",
    "\n",
    "    angle = math.acos((np.sum(v1*v2))/(v1_norm*v2_norm))\n",
    "    angle = angle * 180 / math.pi\n",
    "    return angle\n",
    "\n",
    "point_1 = [x_right_elbow, y_right_elbow, z_right_elbow] = df_landmarks[['x_right_elbow', 'y_right_elbow', 'z_right_elbow']].iloc[0]\n",
    "point_2 = [x_right_shoulder, y_right_shoulder, z_right_shoulder] = df_landmarks[['x_right_shoulder', 'y_right_shoulder', 'z_right_shoulder']].iloc[0]\n",
    "point_3 = [x_right_hip, y_right_hip, z_right_hip] = df_landmarks[['x_right_hip', 'y_right_hip', 'z_right_hip']].iloc[0]\n",
    "angle = cal_angle(point_1= point_1, point_2= point_2, point_3= point_3)\n",
    "print(angle)"
   ]
  },
  {
   "cell_type": "code",
   "execution_count": 21,
   "metadata": {},
   "outputs": [
    {
     "data": {
      "text/html": [
       "<div>\n",
       "<style scoped>\n",
       "    .dataframe tbody tr th:only-of-type {\n",
       "        vertical-align: middle;\n",
       "    }\n",
       "\n",
       "    .dataframe tbody tr th {\n",
       "        vertical-align: top;\n",
       "    }\n",
       "\n",
       "    .dataframe thead th {\n",
       "        text-align: right;\n",
       "    }\n",
       "</style>\n",
       "<table border=\"1\" class=\"dataframe\">\n",
       "  <thead>\n",
       "    <tr style=\"text-align: right;\">\n",
       "      <th></th>\n",
       "      <th>right_elbow_right_shoulder_right_hip</th>\n",
       "      <th>left_elbow_left_shoulder_left_hip</th>\n",
       "      <th>right_knee_mid_hip_left_knee</th>\n",
       "      <th>right_hip_right_knee_right_ankle</th>\n",
       "      <th>left_hip_left_knee_left_ankle</th>\n",
       "      <th>right_wrist_right_elbow_right_shoulder</th>\n",
       "      <th>left_wrist_left_elbow_left_shoulder</th>\n",
       "    </tr>\n",
       "  </thead>\n",
       "  <tbody>\n",
       "    <tr>\n",
       "      <th>0</th>\n",
       "      <td>14.021934</td>\n",
       "      <td>8.209491</td>\n",
       "      <td>23.214672</td>\n",
       "      <td>129.22334</td>\n",
       "      <td>116.20365</td>\n",
       "      <td>138.05977</td>\n",
       "      <td>141.57338</td>\n",
       "    </tr>\n",
       "  </tbody>\n",
       "</table>\n",
       "</div>"
      ],
      "text/plain": [
       "   right_elbow_right_shoulder_right_hip  left_elbow_left_shoulder_left_hip  \\\n",
       "0                             14.021934                           8.209491   \n",
       "\n",
       "   right_knee_mid_hip_left_knee  right_hip_right_knee_right_ankle  \\\n",
       "0                     23.214672                         129.22334   \n",
       "\n",
       "   left_hip_left_knee_left_ankle  right_wrist_right_elbow_right_shoulder  \\\n",
       "0                      116.20365                               138.05977   \n",
       "\n",
       "   left_wrist_left_elbow_left_shoulder  \n",
       "0                            141.57338  "
      ]
     },
     "execution_count": 21,
     "metadata": {},
     "output_type": "execute_result"
    }
   ],
   "source": [
    "df_angles.head(1)"
   ]
  },
  {
   "cell_type": "code",
   "execution_count": 22,
   "metadata": {},
   "outputs": [
    {
     "data": {
      "text/html": [
       "<div>\n",
       "<style scoped>\n",
       "    .dataframe tbody tr th:only-of-type {\n",
       "        vertical-align: middle;\n",
       "    }\n",
       "\n",
       "    .dataframe tbody tr th {\n",
       "        vertical-align: top;\n",
       "    }\n",
       "\n",
       "    .dataframe thead th {\n",
       "        text-align: right;\n",
       "    }\n",
       "</style>\n",
       "<table border=\"1\" class=\"dataframe\">\n",
       "  <thead>\n",
       "    <tr style=\"text-align: right;\">\n",
       "      <th></th>\n",
       "      <th>right_elbow_right_shoulder_right_hip</th>\n",
       "      <th>left_elbow_left_shoulder_left_hip</th>\n",
       "      <th>right_knee_mid_hip_left_knee</th>\n",
       "      <th>right_hip_right_knee_right_ankle</th>\n",
       "      <th>left_hip_left_knee_left_ankle</th>\n",
       "      <th>right_wrist_right_elbow_right_shoulder</th>\n",
       "      <th>left_wrist_left_elbow_left_shoulder</th>\n",
       "    </tr>\n",
       "  </thead>\n",
       "  <tbody>\n",
       "    <tr>\n",
       "      <th>0</th>\n",
       "      <td>14.021934</td>\n",
       "      <td>8.209491</td>\n",
       "      <td>23.214672</td>\n",
       "      <td>129.22334</td>\n",
       "      <td>116.20365</td>\n",
       "      <td>138.05977</td>\n",
       "      <td>141.57338</td>\n",
       "    </tr>\n",
       "  </tbody>\n",
       "</table>\n",
       "</div>"
      ],
      "text/plain": [
       "   right_elbow_right_shoulder_right_hip  left_elbow_left_shoulder_left_hip  \\\n",
       "0                             14.021934                           8.209491   \n",
       "\n",
       "   right_knee_mid_hip_left_knee  right_hip_right_knee_right_ankle  \\\n",
       "0                     23.214672                         129.22334   \n",
       "\n",
       "   left_hip_left_knee_left_ankle  right_wrist_right_elbow_right_shoulder  \\\n",
       "0                      116.20365                               138.05977   \n",
       "\n",
       "   left_wrist_left_elbow_left_shoulder  \n",
       "0                            141.57338  "
      ]
     },
     "execution_count": 22,
     "metadata": {},
     "output_type": "execute_result"
    }
   ],
   "source": [
    "df_angles.head(1)"
   ]
  },
  {
   "cell_type": "code",
   "execution_count": 23,
   "metadata": {},
   "outputs": [
    {
     "name": "stdout",
     "output_type": "stream",
     "text": [
      "right_elbow\n",
      "right_shoulder\n",
      "right_hip\n"
     ]
    }
   ],
   "source": [
    "### split string\n",
    "\n",
    "input_cal = 'right_elbow_right_shoulder_right_hip'\n",
    "input_cal = input_cal.split(\"_\")\n",
    "\n",
    "list_index = []\n",
    "count = 1\n",
    "for i, item in enumerate(input_cal):\n",
    "    if item in [\"right\", \"left\", \"mid\"]:\n",
    "        list_index.append(i)\n",
    "\n",
    "point_1 = \"_\".join(input_cal[list_index[0]:list_index[1]])\n",
    "point_2 = \"_\".join(input_cal[list_index[1]:list_index[2]])\n",
    "point_3 = \"_\".join(input_cal[list_index[2]:])\n",
    "print(point_1)\n",
    "print(point_2)\n",
    "print(point_3)\n"
   ]
  },
  {
   "attachments": {},
   "cell_type": "markdown",
   "metadata": {},
   "source": [
    "# Assembly modules"
   ]
  },
  {
   "cell_type": "code",
   "execution_count": 24,
   "metadata": {},
   "outputs": [
    {
     "data": {
      "text/html": [
       "<div>\n",
       "<style scoped>\n",
       "    .dataframe tbody tr th:only-of-type {\n",
       "        vertical-align: middle;\n",
       "    }\n",
       "\n",
       "    .dataframe tbody tr th {\n",
       "        vertical-align: top;\n",
       "    }\n",
       "\n",
       "    .dataframe thead th {\n",
       "        text-align: right;\n",
       "    }\n",
       "</style>\n",
       "<table border=\"1\" class=\"dataframe\">\n",
       "  <thead>\n",
       "    <tr style=\"text-align: right;\">\n",
       "      <th></th>\n",
       "      <th>left_elbow_left_shoulder_left_hip</th>\n",
       "    </tr>\n",
       "  </thead>\n",
       "  <tbody>\n",
       "    <tr>\n",
       "      <th>0</th>\n",
       "      <td>8.209483</td>\n",
       "    </tr>\n",
       "    <tr>\n",
       "      <th>1</th>\n",
       "      <td>75.857112</td>\n",
       "    </tr>\n",
       "    <tr>\n",
       "      <th>2</th>\n",
       "      <td>75.378153</td>\n",
       "    </tr>\n",
       "    <tr>\n",
       "      <th>3</th>\n",
       "      <td>68.259784</td>\n",
       "    </tr>\n",
       "    <tr>\n",
       "      <th>4</th>\n",
       "      <td>20.923722</td>\n",
       "    </tr>\n",
       "    <tr>\n",
       "      <th>...</th>\n",
       "      <td>...</td>\n",
       "    </tr>\n",
       "    <tr>\n",
       "      <th>1367</th>\n",
       "      <td>65.756507</td>\n",
       "    </tr>\n",
       "    <tr>\n",
       "      <th>1368</th>\n",
       "      <td>58.247128</td>\n",
       "    </tr>\n",
       "    <tr>\n",
       "      <th>1369</th>\n",
       "      <td>78.378904</td>\n",
       "    </tr>\n",
       "    <tr>\n",
       "      <th>1370</th>\n",
       "      <td>54.604186</td>\n",
       "    </tr>\n",
       "    <tr>\n",
       "      <th>1371</th>\n",
       "      <td>77.760260</td>\n",
       "    </tr>\n",
       "  </tbody>\n",
       "</table>\n",
       "<p>1372 rows × 1 columns</p>\n",
       "</div>"
      ],
      "text/plain": [
       "      left_elbow_left_shoulder_left_hip\n",
       "0                              8.209483\n",
       "1                             75.857112\n",
       "2                             75.378153\n",
       "3                             68.259784\n",
       "4                             20.923722\n",
       "...                                 ...\n",
       "1367                          65.756507\n",
       "1368                          58.247128\n",
       "1369                          78.378904\n",
       "1370                          54.604186\n",
       "1371                          77.760260\n",
       "\n",
       "[1372 rows x 1 columns]"
      ]
     },
     "execution_count": 24,
     "metadata": {},
     "output_type": "execute_result"
    }
   ],
   "source": [
    "# Importing Pandas to create DataFrame\n",
    "import pandas as pd\n",
    "  \n",
    "# Creating Empty DataFrame and Storing it in variable df\n",
    "df_out_angles = pd.DataFrame()\n",
    "\n",
    "input_cal = 'left_elbow_left_shoulder_left_hip'\n",
    "def create_dist_Series_angle(three_points_string):\n",
    "    ### split string\n",
    "    three_points_string = three_points_string.split(\"_\")\n",
    "\n",
    "    list_index = []\n",
    "    for i, item in enumerate(three_points_string):\n",
    "        if item in [\"right\", \"left\", \"mid\"]:\n",
    "            list_index.append(i)\n",
    "\n",
    "    A_point = \"_\".join(three_points_string[list_index[0]:list_index[1]])\n",
    "    B_point = \"_\".join(three_points_string[list_index[1]:list_index[2]])\n",
    "    C_point = \"_\".join(three_points_string[list_index[2]:])\n",
    "\n",
    "    # Define the function\n",
    "    def multiply(point_1, point_2, point_3):\n",
    "        A = [point_1[0], point_1[1], point_1[2]]\n",
    "        B = [point_2[0], point_2[1], point_2[2]]\n",
    "        C = [point_3[0], point_3[1], point_3[2]]\n",
    "        dist = cal_angle(point_1= A, point_2= B, point_3= C)\n",
    "        return dist\n",
    "\n",
    "    # Apply the function to the DataFrame\n",
    "    out_angle = df_landmarks.apply(lambda row: multiply(row[['x_'+A_point, 'y_'+A_point, 'z_'+A_point]], row[['x_'+B_point, 'y_'+B_point, 'z_'+B_point]], row[['x_'+C_point, 'y_'+C_point, 'z_'+C_point]]), axis=1)\n",
    "    return out_angle\n",
    "\n",
    "df_out_angles[input_cal] = create_dist_Series_angle(input_cal)\n",
    "df_out_angles"
   ]
  },
  {
   "attachments": {},
   "cell_type": "markdown",
   "metadata": {},
   "source": [
    "# Code final"
   ]
  },
  {
   "cell_type": "code",
   "execution_count": 25,
   "metadata": {},
   "outputs": [
    {
     "name": "stdout",
     "output_type": "stream",
     "text": [
      "<class 'pandas.core.frame.DataFrame'>\n",
      "RangeIndex: 1372 entries, 0 to 1371\n",
      "Data columns (total 7 columns):\n",
      " #   Column                                  Non-Null Count  Dtype  \n",
      "---  ------                                  --------------  -----  \n",
      " 0   right_elbow_right_shoulder_right_hip    1372 non-null   float64\n",
      " 1   left_elbow_left_shoulder_left_hip       1372 non-null   float64\n",
      " 2   right_knee_mid_hip_left_knee            1372 non-null   float64\n",
      " 3   right_hip_right_knee_right_ankle        1372 non-null   float64\n",
      " 4   left_hip_left_knee_left_ankle           1372 non-null   float64\n",
      " 5   right_wrist_right_elbow_right_shoulder  1372 non-null   float64\n",
      " 6   left_wrist_left_elbow_left_shoulder     1372 non-null   float64\n",
      "dtypes: float64(7)\n",
      "memory usage: 75.2 KB\n"
     ]
    }
   ],
   "source": [
    "### get list of columns : df_distances\n",
    "\n",
    "def create_dist_Series_angle(three_points_string):\n",
    "    ### split string\n",
    "    three_points_string = three_points_string.split(\"_\")\n",
    "\n",
    "    list_index = []\n",
    "    for i, item in enumerate(three_points_string):\n",
    "        if item in [\"right\", \"left\", \"mid\"]:\n",
    "            list_index.append(i)\n",
    "\n",
    "    A_point = \"_\".join(three_points_string[list_index[0]:list_index[1]])\n",
    "    B_point = \"_\".join(three_points_string[list_index[1]:list_index[2]])\n",
    "    C_point = \"_\".join(three_points_string[list_index[2]:])\n",
    "\n",
    "    # Define the function\n",
    "    def multiply(point_1, point_2, point_3):\n",
    "        A = [point_1[0], point_1[1], point_1[2]]\n",
    "        B = [point_2[0], point_2[1], point_2[2]]\n",
    "        C = [point_3[0], point_3[1], point_3[2]]\n",
    "        dist = cal_angle(point_1= A, point_2= B, point_3= C)\n",
    "        return dist\n",
    "\n",
    "    # Apply the function to the DataFrame\n",
    "    out_angle = df_landmarks.apply(lambda row: multiply(row[['x_'+A_point, 'y_'+A_point, 'z_'+A_point]], row[['x_'+B_point, 'y_'+B_point, 'z_'+B_point]], row[['x_'+C_point, 'y_'+C_point, 'z_'+C_point]]), axis=1)\n",
    "    return out_angle\n",
    "\n",
    "# Importing Pandas to create DataFrame\n",
    "import pandas as pd\n",
    "  \n",
    "# Creating Empty DataFrame and Storing it in variable df\n",
    "df_out_angles = pd.DataFrame()\n",
    "\n",
    "name_angles = list(df_angles.columns)\n",
    "\"\"\"\n",
    "name_angles = ['right_elbow_right_shoulder_right_hip',\n",
    "            'left_elbow_left_shoulder_left_hip',\n",
    "            'right_knee_mid_hip_left_knee',\n",
    "            'right_hip_right_knee_right_ankle',\n",
    "            'left_hip_left_knee_left_ankle',\n",
    "            'right_wrist_right_elbow_right_shoulder',\n",
    "            'left_wrist_left_elbow_left_shoulder']\n",
    "\"\"\"\n",
    "for i in range(len(name_angles)):\n",
    "    df_out_angles[name_angles[i]] = create_dist_Series_angle(name_angles[i])\n",
    "\n",
    "df_out_angles.info()"
   ]
  },
  {
   "cell_type": "code",
   "execution_count": 31,
   "metadata": {},
   "outputs": [
    {
     "name": "stdout",
     "output_type": "stream",
     "text": [
      "<class 'pandas.core.frame.DataFrame'>\n",
      "RangeIndex: 1372 entries, 0 to 1371\n",
      "Data columns (total 7 columns):\n",
      " #   Column                                  Non-Null Count  Dtype  \n",
      "---  ------                                  --------------  -----  \n",
      " 0   right_elbow_right_shoulder_right_hip    1372 non-null   float32\n",
      " 1   left_elbow_left_shoulder_left_hip       1372 non-null   float32\n",
      " 2   right_knee_mid_hip_left_knee            1372 non-null   float32\n",
      " 3   right_hip_right_knee_right_ankle        1372 non-null   float32\n",
      " 4   left_hip_left_knee_left_ankle           1372 non-null   float32\n",
      " 5   right_wrist_right_elbow_right_shoulder  1372 non-null   float32\n",
      " 6   left_wrist_left_elbow_left_shoulder     1372 non-null   float32\n",
      "dtypes: float32(7)\n",
      "memory usage: 37.6 KB\n"
     ]
    }
   ],
   "source": [
    "df_out = df_out_angles.astype(np.float32)\n",
    "df_out.info()"
   ]
  },
  {
   "cell_type": "code",
   "execution_count": 32,
   "metadata": {},
   "outputs": [],
   "source": [
    "### Save to csv\n",
    "import os  \n",
    "os.makedirs('Data_CSV', exist_ok=True)  \n",
    "df_out.to_csv('Data_CSV/angles_me.csv', index=False)  "
   ]
  },
  {
   "cell_type": "code",
   "execution_count": 35,
   "metadata": {},
   "outputs": [
    {
     "name": "stdout",
     "output_type": "stream",
     "text": [
      "<class 'pandas.core.frame.DataFrame'>\n",
      "RangeIndex: 1372 entries, 0 to 1371\n",
      "Data columns (total 7 columns):\n",
      " #   Column                                  Non-Null Count  Dtype  \n",
      "---  ------                                  --------------  -----  \n",
      " 0   right_elbow_right_shoulder_right_hip    1372 non-null   float64\n",
      " 1   left_elbow_left_shoulder_left_hip       1372 non-null   float64\n",
      " 2   right_knee_mid_hip_left_knee            1372 non-null   float64\n",
      " 3   right_hip_right_knee_right_ankle        1372 non-null   float64\n",
      " 4   left_hip_left_knee_left_ankle           1372 non-null   float64\n",
      " 5   right_wrist_right_elbow_right_shoulder  1372 non-null   float64\n",
      " 6   left_wrist_left_elbow_left_shoulder     1372 non-null   float64\n",
      "dtypes: float64(7)\n",
      "memory usage: 75.2 KB\n"
     ]
    }
   ],
   "source": [
    "path_angles_me = 'Data_CSV/angles_me.csv'\n",
    "df_angles_me = pd.read_csv(path_angles_me)\n",
    "\n",
    "df_angles_me.info()"
   ]
  }
 ],
 "metadata": {
  "kernelspec": {
   "display_name": "Python 3",
   "language": "python",
   "name": "python3"
  },
  "language_info": {
   "codemirror_mode": {
    "name": "ipython",
    "version": 3
   },
   "file_extension": ".py",
   "mimetype": "text/x-python",
   "name": "python",
   "nbconvert_exporter": "python",
   "pygments_lexer": "ipython3",
   "version": "3.10.7"
  },
  "orig_nbformat": 4
 },
 "nbformat": 4,
 "nbformat_minor": 2
}
