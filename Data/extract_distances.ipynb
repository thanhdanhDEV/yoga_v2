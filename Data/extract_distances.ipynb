{
 "cells": [
  {
   "cell_type": "code",
   "execution_count": 1,
   "metadata": {},
   "outputs": [],
   "source": [
    "import pandas as pd \n",
    "import numpy as np\n",
    "import matplotlib.pyplot as plt\n",
    "import os"
   ]
  },
  {
   "cell_type": "code",
   "execution_count": 2,
   "metadata": {},
   "outputs": [],
   "source": [
    "path_distances = '3d_distances.csv'\n",
    "path_landmarks= 'landmarks.csv'\n",
    "df_distances = pd.read_csv(path_distances)\n",
    "df_landmarks = pd.read_csv(path_landmarks)\n",
    "\n",
    "\n",
    "df_distances.drop(columns=[\"pose_id\"], inplace=True) \n",
    "df_landmarks.drop(columns=[\"pose_id\"], inplace=True)"
   ]
  },
  {
   "cell_type": "code",
   "execution_count": 3,
   "metadata": {},
   "outputs": [
    {
     "data": {
      "text/html": [
       "<div>\n",
       "<style scoped>\n",
       "    .dataframe tbody tr th:only-of-type {\n",
       "        vertical-align: middle;\n",
       "    }\n",
       "\n",
       "    .dataframe tbody tr th {\n",
       "        vertical-align: top;\n",
       "    }\n",
       "\n",
       "    .dataframe thead th {\n",
       "        text-align: right;\n",
       "    }\n",
       "</style>\n",
       "<table border=\"1\" class=\"dataframe\">\n",
       "  <thead>\n",
       "    <tr style=\"text-align: right;\">\n",
       "      <th></th>\n",
       "      <th>left_shoulder_left_wrist</th>\n",
       "      <th>right_shoulder_right_wrist</th>\n",
       "      <th>left_hip_left_ankle</th>\n",
       "      <th>right_hip_right_ankle</th>\n",
       "      <th>left_hip_left_wrist</th>\n",
       "      <th>right_hip_right_wrist</th>\n",
       "      <th>left_shoulder_left_ankle</th>\n",
       "      <th>right_shoulder_right_ankle</th>\n",
       "      <th>left_hip_right_wrist</th>\n",
       "      <th>right_hip_left_wrist</th>\n",
       "      <th>left_elbow_right_elbow</th>\n",
       "      <th>left_knee_right_knee</th>\n",
       "      <th>left_wrist_right_wrist</th>\n",
       "      <th>left_ankle_right_ankle</th>\n",
       "      <th>left_hip_avg_left_wrist_left_ankle</th>\n",
       "      <th>right_hip_avg_right_wrist_right_ankle</th>\n",
       "    </tr>\n",
       "  </thead>\n",
       "  <tbody>\n",
       "    <tr>\n",
       "      <th>0</th>\n",
       "      <td>38.4233</td>\n",
       "      <td>39.855762</td>\n",
       "      <td>62.64072</td>\n",
       "      <td>57.871964</td>\n",
       "      <td>15.052525</td>\n",
       "      <td>20.68814</td>\n",
       "      <td>107.80279</td>\n",
       "      <td>101.25622</td>\n",
       "      <td>25.964552</td>\n",
       "      <td>20.129477</td>\n",
       "      <td>21.891373</td>\n",
       "      <td>9.572068</td>\n",
       "      <td>23.628513</td>\n",
       "      <td>8.817467</td>\n",
       "      <td>24.935423</td>\n",
       "      <td>21.897507</td>\n",
       "    </tr>\n",
       "  </tbody>\n",
       "</table>\n",
       "</div>"
      ],
      "text/plain": [
       "   left_shoulder_left_wrist  right_shoulder_right_wrist  left_hip_left_ankle  \\\n",
       "0                   38.4233                   39.855762             62.64072   \n",
       "\n",
       "   right_hip_right_ankle  left_hip_left_wrist  right_hip_right_wrist  \\\n",
       "0              57.871964            15.052525               20.68814   \n",
       "\n",
       "   left_shoulder_left_ankle  right_shoulder_right_ankle  left_hip_right_wrist  \\\n",
       "0                 107.80279                   101.25622             25.964552   \n",
       "\n",
       "   right_hip_left_wrist  left_elbow_right_elbow  left_knee_right_knee  \\\n",
       "0             20.129477               21.891373              9.572068   \n",
       "\n",
       "   left_wrist_right_wrist  left_ankle_right_ankle  \\\n",
       "0               23.628513                8.817467   \n",
       "\n",
       "   left_hip_avg_left_wrist_left_ankle  right_hip_avg_right_wrist_right_ankle  \n",
       "0                           24.935423                              21.897507  "
      ]
     },
     "execution_count": 3,
     "metadata": {},
     "output_type": "execute_result"
    }
   ],
   "source": [
    "df_distances.head(1)"
   ]
  },
  {
   "cell_type": "code",
   "execution_count": 4,
   "metadata": {},
   "outputs": [
    {
     "data": {
      "text/html": [
       "<div>\n",
       "<style scoped>\n",
       "    .dataframe tbody tr th:only-of-type {\n",
       "        vertical-align: middle;\n",
       "    }\n",
       "\n",
       "    .dataframe tbody tr th {\n",
       "        vertical-align: top;\n",
       "    }\n",
       "\n",
       "    .dataframe thead th {\n",
       "        text-align: right;\n",
       "    }\n",
       "</style>\n",
       "<table border=\"1\" class=\"dataframe\">\n",
       "  <thead>\n",
       "    <tr style=\"text-align: right;\">\n",
       "      <th></th>\n",
       "      <th>x_nose</th>\n",
       "      <th>y_nose</th>\n",
       "      <th>z_nose</th>\n",
       "      <th>x_left_eye_inner</th>\n",
       "      <th>y_left_eye_inner</th>\n",
       "      <th>z_left_eye_inner</th>\n",
       "      <th>x_left_eye</th>\n",
       "      <th>y_left_eye</th>\n",
       "      <th>z_left_eye</th>\n",
       "      <th>x_left_eye_outer</th>\n",
       "      <th>...</th>\n",
       "      <th>z_left_heel</th>\n",
       "      <th>x_right_heel</th>\n",
       "      <th>y_right_heel</th>\n",
       "      <th>z_right_heel</th>\n",
       "      <th>x_left_foot_index</th>\n",
       "      <th>y_left_foot_index</th>\n",
       "      <th>z_left_foot_index</th>\n",
       "      <th>x_right_foot_index</th>\n",
       "      <th>y_right_foot_index</th>\n",
       "      <th>z_right_foot_index</th>\n",
       "    </tr>\n",
       "  </thead>\n",
       "  <tbody>\n",
       "    <tr>\n",
       "      <th>0</th>\n",
       "      <td>-5.889507</td>\n",
       "      <td>-57.63752</td>\n",
       "      <td>-45.01975</td>\n",
       "      <td>-4.656085</td>\n",
       "      <td>-62.832863</td>\n",
       "      <td>-44.571823</td>\n",
       "      <td>-3.302626</td>\n",
       "      <td>-63.386856</td>\n",
       "      <td>-44.567863</td>\n",
       "      <td>-2.032406</td>\n",
       "      <td>...</td>\n",
       "      <td>56.852562</td>\n",
       "      <td>-0.842025</td>\n",
       "      <td>35.03706</td>\n",
       "      <td>50.56502</td>\n",
       "      <td>5.84219</td>\n",
       "      <td>45.97102</td>\n",
       "      <td>50.263714</td>\n",
       "      <td>0.092779</td>\n",
       "      <td>45.84215</td>\n",
       "      <td>41.427795</td>\n",
       "    </tr>\n",
       "  </tbody>\n",
       "</table>\n",
       "<p>1 rows × 99 columns</p>\n",
       "</div>"
      ],
      "text/plain": [
       "     x_nose    y_nose    z_nose  x_left_eye_inner  y_left_eye_inner  \\\n",
       "0 -5.889507 -57.63752 -45.01975         -4.656085        -62.832863   \n",
       "\n",
       "   z_left_eye_inner  x_left_eye  y_left_eye  z_left_eye  x_left_eye_outer  \\\n",
       "0        -44.571823   -3.302626  -63.386856  -44.567863         -2.032406   \n",
       "\n",
       "   ...  z_left_heel  x_right_heel  y_right_heel  z_right_heel  \\\n",
       "0  ...    56.852562     -0.842025      35.03706      50.56502   \n",
       "\n",
       "   x_left_foot_index  y_left_foot_index  z_left_foot_index  \\\n",
       "0            5.84219           45.97102          50.263714   \n",
       "\n",
       "   x_right_foot_index  y_right_foot_index  z_right_foot_index  \n",
       "0            0.092779            45.84215           41.427795  \n",
       "\n",
       "[1 rows x 99 columns]"
      ]
     },
     "execution_count": 4,
     "metadata": {},
     "output_type": "execute_result"
    }
   ],
   "source": [
    "df_landmarks.head(1)"
   ]
  },
  {
   "cell_type": "code",
   "execution_count": 17,
   "metadata": {},
   "outputs": [],
   "source": [
    "import numpy as np\n",
    "\n",
    "def cal_distances(point_1, point_2):\n",
    "    # [x1_coords, y1_coords, z1_coords] = [ -5.889507, -57.63752, -45.01975]\n",
    "    # [x2_coords, y2_coords, z2_coords] = [ -4.656085, -62.832863, -44.571823]\n",
    "    p1 = np.array([point_1[0], point_1[1], point_1[2]])\n",
    "    p2 = np.array([point_2[0], point_2[1], point_2[2]])\n",
    "\n",
    "    squared_dist = np.sum((p1-p2)**2, axis=0)\n",
    "    dist = np.sqrt(squared_dist)\n",
    "    return dist\n"
   ]
  },
  {
   "cell_type": "code",
   "execution_count": null,
   "metadata": {},
   "outputs": [],
   "source": [
    "df_landmarks.columns"
   ]
  },
  {
   "cell_type": "code",
   "execution_count": 19,
   "metadata": {},
   "outputs": [
    {
     "name": "stdout",
     "output_type": "stream",
     "text": [
      "38.42330216435313\n"
     ]
    },
    {
     "data": {
      "text/html": [
       "<div>\n",
       "<style scoped>\n",
       "    .dataframe tbody tr th:only-of-type {\n",
       "        vertical-align: middle;\n",
       "    }\n",
       "\n",
       "    .dataframe tbody tr th {\n",
       "        vertical-align: top;\n",
       "    }\n",
       "\n",
       "    .dataframe thead th {\n",
       "        text-align: right;\n",
       "    }\n",
       "</style>\n",
       "<table border=\"1\" class=\"dataframe\">\n",
       "  <thead>\n",
       "    <tr style=\"text-align: right;\">\n",
       "      <th></th>\n",
       "      <th>left_shoulder_left_wrist</th>\n",
       "      <th>right_shoulder_right_wrist</th>\n",
       "      <th>left_hip_left_ankle</th>\n",
       "      <th>right_hip_right_ankle</th>\n",
       "      <th>left_hip_left_wrist</th>\n",
       "      <th>right_hip_right_wrist</th>\n",
       "      <th>left_shoulder_left_ankle</th>\n",
       "      <th>right_shoulder_right_ankle</th>\n",
       "      <th>left_hip_right_wrist</th>\n",
       "      <th>right_hip_left_wrist</th>\n",
       "      <th>left_elbow_right_elbow</th>\n",
       "      <th>left_knee_right_knee</th>\n",
       "      <th>left_wrist_right_wrist</th>\n",
       "      <th>left_ankle_right_ankle</th>\n",
       "      <th>left_hip_avg_left_wrist_left_ankle</th>\n",
       "      <th>right_hip_avg_right_wrist_right_ankle</th>\n",
       "    </tr>\n",
       "  </thead>\n",
       "  <tbody>\n",
       "    <tr>\n",
       "      <th>0</th>\n",
       "      <td>38.4233</td>\n",
       "      <td>39.855762</td>\n",
       "      <td>62.64072</td>\n",
       "      <td>57.871964</td>\n",
       "      <td>15.052525</td>\n",
       "      <td>20.68814</td>\n",
       "      <td>107.80279</td>\n",
       "      <td>101.25622</td>\n",
       "      <td>25.964552</td>\n",
       "      <td>20.129477</td>\n",
       "      <td>21.891373</td>\n",
       "      <td>9.572068</td>\n",
       "      <td>23.628513</td>\n",
       "      <td>8.817467</td>\n",
       "      <td>24.935423</td>\n",
       "      <td>21.897507</td>\n",
       "    </tr>\n",
       "  </tbody>\n",
       "</table>\n",
       "</div>"
      ],
      "text/plain": [
       "   left_shoulder_left_wrist  right_shoulder_right_wrist  left_hip_left_ankle  \\\n",
       "0                   38.4233                   39.855762             62.64072   \n",
       "\n",
       "   right_hip_right_ankle  left_hip_left_wrist  right_hip_right_wrist  \\\n",
       "0              57.871964            15.052525               20.68814   \n",
       "\n",
       "   left_shoulder_left_ankle  right_shoulder_right_ankle  left_hip_right_wrist  \\\n",
       "0                 107.80279                   101.25622             25.964552   \n",
       "\n",
       "   right_hip_left_wrist  left_elbow_right_elbow  left_knee_right_knee  \\\n",
       "0             20.129477               21.891373              9.572068   \n",
       "\n",
       "   left_wrist_right_wrist  left_ankle_right_ankle  \\\n",
       "0               23.628513                8.817467   \n",
       "\n",
       "   left_hip_avg_left_wrist_left_ankle  right_hip_avg_right_wrist_right_ankle  \n",
       "0                           24.935423                              21.897507  "
      ]
     },
     "execution_count": 19,
     "metadata": {},
     "output_type": "execute_result"
    }
   ],
   "source": [
    "### select one of the landmarks\n",
    "point_1 = [x_left_shoulder, y_left_shoulder, z_left_shoulder] = df_landmarks[['x_left_shoulder', 'y_left_shoulder', 'z_left_shoulder']].iloc[0]\n",
    "point_2 = [x_left_wrist, y_left_wrist, z_left_wrist] = df_landmarks[['x_left_wrist', 'y_left_wrist', 'z_left_wrist']].iloc[0]\n",
    "dist = cal_distances(point_1= point_1, point_2= point_2)\n",
    "print(dist)\n",
    "df_distances.head(1)"
   ]
  },
  {
   "cell_type": "code",
   "execution_count": 21,
   "metadata": {},
   "outputs": [
    {
     "name": "stdout",
     "output_type": "stream",
     "text": [
      "Empty DataFrame\n",
      "Columns: []\n",
      "Index: []\n"
     ]
    }
   ],
   "source": [
    "# Importing Pandas to create DataFrame\n",
    "import pandas as pd\n",
    "  \n",
    "# Creating Empty DataFrame and Storing it in variable df\n",
    "df_out_distances = pd.DataFrame()\n",
    "  \n",
    "# Printing Empty DataFrame\n",
    "print(df_out_distances)"
   ]
  },
  {
   "cell_type": "code",
   "execution_count": 22,
   "metadata": {},
   "outputs": [],
   "source": [
    "# Define the function\n",
    "def multiply(point_1, point_2):\n",
    "    A = [point_1[0], point_1[1], point_1[2]]\n",
    "    B = [point_2[0], point_2[1], point_2[2]]\n",
    "    dist = cal_distances(point_1= A, point_2= B)\n",
    "    return dist\n",
    "\n",
    "df_distances.head(1)\n",
    "# Apply the function to the DataFrame\n",
    "df_out_distances['left_shoulder_left_wrist'] = df_landmarks.apply(lambda row: multiply(row[['x_left_shoulder', 'y_left_shoulder', 'z_left_shoulder']], row[['x_left_wrist', 'y_left_wrist', 'z_left_wrist']]), axis=1)\n",
    "\n"
   ]
  },
  {
   "cell_type": "code",
   "execution_count": 28,
   "metadata": {},
   "outputs": [
    {
     "name": "stdout",
     "output_type": "stream",
     "text": [
      "   left_shoulder_left_wrist\n",
      "0                 38.423302\n",
      "1                 65.631511\n",
      "2                 69.661672\n",
      "3                 52.437597\n",
      "4                 30.867631\n",
      "0    38.423300\n",
      "1    65.631510\n",
      "2    69.661674\n",
      "3    52.437600\n",
      "4    30.867628\n",
      "Name: left_shoulder_left_wrist, dtype: float64\n"
     ]
    }
   ],
   "source": [
    "print(df_out_distances.head())\n",
    "print(df_distances.head().iloc[:,0])"
   ]
  },
  {
   "cell_type": "code",
   "execution_count": 34,
   "metadata": {},
   "outputs": [],
   "source": [
    "### split string\n",
    "input_cal = 'left_shoulder_left_wrist'\n",
    "index = input_cal.find(\"_\", int(len(input_cal)/2 - 2), -1) ### find underscore in mid string\n",
    "A_point = input_cal[:index]\n",
    "B_point = input_cal[index+1:]"
   ]
  },
  {
   "attachments": {},
   "cell_type": "markdown",
   "metadata": {},
   "source": [
    "# Assembly modules"
   ]
  },
  {
   "cell_type": "code",
   "execution_count": 1,
   "metadata": {},
   "outputs": [
    {
     "ename": "NameError",
     "evalue": "name 'df_landmarks' is not defined",
     "output_type": "error",
     "traceback": [
      "\u001b[1;31m---------------------------------------------------------------------------\u001b[0m",
      "\u001b[1;31mNameError\u001b[0m                                 Traceback (most recent call last)",
      "\u001b[1;32md:\\Danh_AI\\MyProject\\Yoga_web_project2\\Data\\extract_distances.ipynb Cell 13\u001b[0m in \u001b[0;36m2\n\u001b[0;32m     <a href='vscode-notebook-cell:/d%3A/Danh_AI/MyProject/Yoga_web_project2/Data/extract_distances.ipynb#X15sZmlsZQ%3D%3D?line=23'>24</a>\u001b[0m     out_distances \u001b[39m=\u001b[39m df_landmarks\u001b[39m.\u001b[39mapply(\u001b[39mlambda\u001b[39;00m row: multiply(row[[\u001b[39m'\u001b[39m\u001b[39mx_\u001b[39m\u001b[39m'\u001b[39m\u001b[39m+\u001b[39mA_point, \u001b[39m'\u001b[39m\u001b[39my_\u001b[39m\u001b[39m'\u001b[39m\u001b[39m+\u001b[39mA_point, \u001b[39m'\u001b[39m\u001b[39mz_\u001b[39m\u001b[39m'\u001b[39m\u001b[39m+\u001b[39mA_point]], row[[\u001b[39m'\u001b[39m\u001b[39mx_\u001b[39m\u001b[39m'\u001b[39m\u001b[39m+\u001b[39mB_point, \u001b[39m'\u001b[39m\u001b[39my_\u001b[39m\u001b[39m'\u001b[39m\u001b[39m+\u001b[39mB_point, \u001b[39m'\u001b[39m\u001b[39mz_\u001b[39m\u001b[39m'\u001b[39m\u001b[39m+\u001b[39mB_point]]), axis\u001b[39m=\u001b[39m\u001b[39m1\u001b[39m)\n\u001b[0;32m     <a href='vscode-notebook-cell:/d%3A/Danh_AI/MyProject/Yoga_web_project2/Data/extract_distances.ipynb#X15sZmlsZQ%3D%3D?line=24'>25</a>\u001b[0m     \u001b[39mreturn\u001b[39;00m out_distances\n\u001b[1;32m---> <a href='vscode-notebook-cell:/d%3A/Danh_AI/MyProject/Yoga_web_project2/Data/extract_distances.ipynb#X15sZmlsZQ%3D%3D?line=25'>26</a>\u001b[0m df_out_distances[input_cal] \u001b[39m=\u001b[39m create_dist_Series(input_cal)\n\u001b[0;32m     <a href='vscode-notebook-cell:/d%3A/Danh_AI/MyProject/Yoga_web_project2/Data/extract_distances.ipynb#X15sZmlsZQ%3D%3D?line=26'>27</a>\u001b[0m \u001b[39m# df_out_distances\u001b[39;00m\n",
      "\u001b[1;32md:\\Danh_AI\\MyProject\\Yoga_web_project2\\Data\\extract_distances.ipynb Cell 13\u001b[0m in \u001b[0;36m2\n\u001b[0;32m     <a href='vscode-notebook-cell:/d%3A/Danh_AI/MyProject/Yoga_web_project2/Data/extract_distances.ipynb#X15sZmlsZQ%3D%3D?line=20'>21</a>\u001b[0m     \u001b[39mreturn\u001b[39;00m dist\n\u001b[0;32m     <a href='vscode-notebook-cell:/d%3A/Danh_AI/MyProject/Yoga_web_project2/Data/extract_distances.ipynb#X15sZmlsZQ%3D%3D?line=22'>23</a>\u001b[0m \u001b[39m# Apply the function to the DataFrame\u001b[39;00m\n\u001b[1;32m---> <a href='vscode-notebook-cell:/d%3A/Danh_AI/MyProject/Yoga_web_project2/Data/extract_distances.ipynb#X15sZmlsZQ%3D%3D?line=23'>24</a>\u001b[0m out_distances \u001b[39m=\u001b[39m df_landmarks\u001b[39m.\u001b[39mapply(\u001b[39mlambda\u001b[39;00m row: multiply(row[[\u001b[39m'\u001b[39m\u001b[39mx_\u001b[39m\u001b[39m'\u001b[39m\u001b[39m+\u001b[39mA_point, \u001b[39m'\u001b[39m\u001b[39my_\u001b[39m\u001b[39m'\u001b[39m\u001b[39m+\u001b[39mA_point, \u001b[39m'\u001b[39m\u001b[39mz_\u001b[39m\u001b[39m'\u001b[39m\u001b[39m+\u001b[39mA_point]], row[[\u001b[39m'\u001b[39m\u001b[39mx_\u001b[39m\u001b[39m'\u001b[39m\u001b[39m+\u001b[39mB_point, \u001b[39m'\u001b[39m\u001b[39my_\u001b[39m\u001b[39m'\u001b[39m\u001b[39m+\u001b[39mB_point, \u001b[39m'\u001b[39m\u001b[39mz_\u001b[39m\u001b[39m'\u001b[39m\u001b[39m+\u001b[39mB_point]]), axis\u001b[39m=\u001b[39m\u001b[39m1\u001b[39m)\n\u001b[0;32m     <a href='vscode-notebook-cell:/d%3A/Danh_AI/MyProject/Yoga_web_project2/Data/extract_distances.ipynb#X15sZmlsZQ%3D%3D?line=24'>25</a>\u001b[0m \u001b[39mreturn\u001b[39;00m out_distances\n",
      "\u001b[1;31mNameError\u001b[0m: name 'df_landmarks' is not defined"
     ]
    }
   ],
   "source": [
    "# Importing Pandas to create DataFrame\n",
    "import pandas as pd\n",
    "  \n",
    "# Creating Empty DataFrame and Storing it in variable df\n",
    "df_out_distances = pd.DataFrame()\n",
    "  \n",
    "# Printing Empty DataFrame\n",
    "# print(df_out_distances)\n",
    "input_cal = 'left_shoulder_left_wrist'\n",
    "def create_dist_Series(dist_between_string):\n",
    "    ### split string\n",
    "    index = dist_between_string.find(\"_\", int(len(dist_between_string)/2 - 2), -1) ### find underscore in mid string\n",
    "    A_point = dist_between_string[:index]\n",
    "    B_point = dist_between_string[index+1:]\n",
    "\n",
    "    # Define the function\n",
    "    def multiply(point_1, point_2):\n",
    "        A = [point_1[0], point_1[1], point_1[2]]\n",
    "        B = [point_2[0], point_2[1], point_2[2]]\n",
    "        dist = cal_distances(point_1= A, point_2= B)\n",
    "        return dist\n",
    "\n",
    "    # Apply the function to the DataFrame\n",
    "    out_distances = df_landmarks.apply(lambda row: multiply(row[['x_'+A_point, 'y_'+A_point, 'z_'+A_point]], row[['x_'+B_point, 'y_'+B_point, 'z_'+B_point]]), axis=1)\n",
    "    return out_distances\n",
    "df_out_distances[input_cal] = create_dist_Series(input_cal)\n",
    "df_out_distances"
   ]
  }
 ],
 "metadata": {
  "kernelspec": {
   "display_name": "Python 3",
   "language": "python",
   "name": "python3"
  },
  "language_info": {
   "codemirror_mode": {
    "name": "ipython",
    "version": 3
   },
   "file_extension": ".py",
   "mimetype": "text/x-python",
   "name": "python",
   "nbconvert_exporter": "python",
   "pygments_lexer": "ipython3",
   "version": "3.10.7"
  },
  "orig_nbformat": 4,
  "vscode": {
   "interpreter": {
    "hash": "de66d7802e14fb2e8694b63e255d0fe3514f0a531cbbfb87d1ecc51a74f4db4d"
   }
  }
 },
 "nbformat": 4,
 "nbformat_minor": 2
}
